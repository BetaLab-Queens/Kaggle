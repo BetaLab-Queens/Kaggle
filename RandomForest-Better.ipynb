{
 "cells": [
  {
   "cell_type": "code",
   "execution_count": 35,
   "metadata": {},
   "outputs": [],
   "source": [
    "import numpy as np \n",
    "import pandas as pd\n",
    "\n",
    "from sklearn.ensemble import RandomForestClassifier\n",
    "from sklearn.model_selection import train_test_split\n",
    "from category_encoders import TargetEncoder"
   ]
  },
  {
   "cell_type": "code",
   "execution_count": 36,
   "metadata": {},
   "outputs": [],
   "source": [
    "df_train = pd.read_csv(\"train.csv\",index_col=0)\n",
    "df_test = pd.read_csv(\"test.csv\",index_col=0)"
   ]
  },
  {
   "cell_type": "code",
   "execution_count": null,
   "metadata": {},
   "outputs": [],
   "source": [
    "ord_1_map  = dict(Novice=0,Contributor=1,Expert=2,Master=3,Grandmaster=4)\n",
    "ord_2_map = dict(Freezing=0,Cold=1,Warm=2,Hot=3)\n",
    "ord_2_map.update({'Boiling Hot':4,'Lava Hot':5})\n",
    "ord_3_lookup = {j:i for (i,j) in zip(range(len(string.ascii_lowercase)),string.ascii_lowercase)}\n",
    "ord_4_lookup = {j:i for (i,j) in zip(range(len(string.ascii_lowercase)),string.ascii_uppercase)}\n",
    "\n",
    "df_train.ord_1 = df_train.ord_1.map(ord_1_map)\n",
    "df_train.ord_2 = df_train.ord_2.map(ord_2_map)\n",
    "df_train.ord_3 = df_train.ord_3.map(ord_3_lookup)\n",
    "df_train.ord_4 = df_train.ord_4.map(ord_4_lookup)\n",
    "\n",
    "df_test.ord_1 = df_test.ord_1.map(ord_1_map)\n",
    "df_test.ord_2 = df_test.ord_2.map(ord_2_map)\n",
    "df_test.ord_3 = df_test.ord_3.map(ord_3_lookup)\n",
    "df_test.ord_4 = df_test.ord_4.map(ord_4_lookup)"
   ]
  },
  {
   "cell_type": "code",
   "execution_count": 37,
   "metadata": {},
   "outputs": [],
   "source": [
    "df_train.dropna(inplace=True)\n",
    "df_test.fillna(0,inplace=True)"
   ]
  },
  {
   "cell_type": "code",
   "execution_count": 38,
   "metadata": {},
   "outputs": [],
   "source": [
    "float_cols = df_train.select_dtypes(\"float64\").columns.tolist()\n",
    "df_train[float_cols] = df_train[float_cols].astype(\"int16\")"
   ]
  },
  {
   "cell_type": "code",
   "execution_count": 39,
   "metadata": {},
   "outputs": [],
   "source": [
    "# df_train.fillna(df_train.median, inplace=True)\n",
    "# df_test.fillna(df_train.median, inplace=True)"
   ]
  },
  {
   "cell_type": "code",
   "execution_count": 40,
   "metadata": {},
   "outputs": [
    {
     "name": "stdout",
     "output_type": "stream",
     "text": [
      "CPU times: user 6 s, sys: 962 ms, total: 6.97 s\n",
      "Wall time: 6.97 s\n"
     ]
    }
   ],
   "source": [
    "%%time\n",
    "cat_cols = df_train.select_dtypes('O').columns.tolist()\n",
    "encoder = TargetEncoder(cols = cat_cols,smoothing=0.2)\n",
    "encoder.fit(df_train[cat_cols],df_train.target)\n",
    "df_train[cat_cols] = encoder.transform(df_train[cat_cols])\n",
    "df_test[cat_cols] = encoder.transform(df_test[cat_cols])\n"
   ]
  },
  {
   "cell_type": "code",
   "execution_count": 41,
   "metadata": {},
   "outputs": [
    {
     "data": {
      "text/html": [
       "<div>\n",
       "<style scoped>\n",
       "    .dataframe tbody tr th:only-of-type {\n",
       "        vertical-align: middle;\n",
       "    }\n",
       "\n",
       "    .dataframe tbody tr th {\n",
       "        vertical-align: top;\n",
       "    }\n",
       "\n",
       "    .dataframe thead th {\n",
       "        text-align: right;\n",
       "    }\n",
       "</style>\n",
       "<table border=\"1\" class=\"dataframe\">\n",
       "  <thead>\n",
       "    <tr style=\"text-align: right;\">\n",
       "      <th></th>\n",
       "      <th>bin_0</th>\n",
       "      <th>bin_1</th>\n",
       "      <th>bin_2</th>\n",
       "      <th>bin_3</th>\n",
       "      <th>bin_4</th>\n",
       "      <th>nom_0</th>\n",
       "      <th>nom_1</th>\n",
       "      <th>nom_2</th>\n",
       "      <th>nom_3</th>\n",
       "      <th>nom_4</th>\n",
       "      <th>...</th>\n",
       "      <th>nom_9</th>\n",
       "      <th>ord_0</th>\n",
       "      <th>ord_1</th>\n",
       "      <th>ord_2</th>\n",
       "      <th>ord_3</th>\n",
       "      <th>ord_4</th>\n",
       "      <th>ord_5</th>\n",
       "      <th>day</th>\n",
       "      <th>month</th>\n",
       "      <th>target</th>\n",
       "    </tr>\n",
       "    <tr>\n",
       "      <th>id</th>\n",
       "      <th></th>\n",
       "      <th></th>\n",
       "      <th></th>\n",
       "      <th></th>\n",
       "      <th></th>\n",
       "      <th></th>\n",
       "      <th></th>\n",
       "      <th></th>\n",
       "      <th></th>\n",
       "      <th></th>\n",
       "      <th></th>\n",
       "      <th></th>\n",
       "      <th></th>\n",
       "      <th></th>\n",
       "      <th></th>\n",
       "      <th></th>\n",
       "      <th></th>\n",
       "      <th></th>\n",
       "      <th></th>\n",
       "      <th></th>\n",
       "      <th></th>\n",
       "    </tr>\n",
       "  </thead>\n",
       "  <tbody>\n",
       "    <tr>\n",
       "      <th>0</th>\n",
       "      <td>0</td>\n",
       "      <td>0</td>\n",
       "      <td>0</td>\n",
       "      <td>0.187530</td>\n",
       "      <td>0.180621</td>\n",
       "      <td>0.182689</td>\n",
       "      <td>0.223915</td>\n",
       "      <td>0.168329</td>\n",
       "      <td>0.219342</td>\n",
       "      <td>0.208428</td>\n",
       "      <td>...</td>\n",
       "      <td>0.219048</td>\n",
       "      <td>3</td>\n",
       "      <td>0.173659</td>\n",
       "      <td>0.205994</td>\n",
       "      <td>0.110363</td>\n",
       "      <td>0.222031</td>\n",
       "      <td>0.146994</td>\n",
       "      <td>6</td>\n",
       "      <td>3</td>\n",
       "      <td>0</td>\n",
       "    </tr>\n",
       "    <tr>\n",
       "      <th>6</th>\n",
       "      <td>0</td>\n",
       "      <td>0</td>\n",
       "      <td>0</td>\n",
       "      <td>0.187530</td>\n",
       "      <td>0.180621</td>\n",
       "      <td>0.182689</td>\n",
       "      <td>0.158584</td>\n",
       "      <td>0.168329</td>\n",
       "      <td>0.202258</td>\n",
       "      <td>0.208428</td>\n",
       "      <td>...</td>\n",
       "      <td>0.208000</td>\n",
       "      <td>1</td>\n",
       "      <td>0.233281</td>\n",
       "      <td>0.152980</td>\n",
       "      <td>0.110363</td>\n",
       "      <td>0.205705</td>\n",
       "      <td>0.241023</td>\n",
       "      <td>5</td>\n",
       "      <td>6</td>\n",
       "      <td>0</td>\n",
       "    </tr>\n",
       "    <tr>\n",
       "      <th>7</th>\n",
       "      <td>0</td>\n",
       "      <td>0</td>\n",
       "      <td>1</td>\n",
       "      <td>0.188656</td>\n",
       "      <td>0.180621</td>\n",
       "      <td>0.182689</td>\n",
       "      <td>0.158584</td>\n",
       "      <td>0.201250</td>\n",
       "      <td>0.180852</td>\n",
       "      <td>0.208428</td>\n",
       "      <td>...</td>\n",
       "      <td>0.211111</td>\n",
       "      <td>3</td>\n",
       "      <td>0.190944</td>\n",
       "      <td>0.152980</td>\n",
       "      <td>0.105846</td>\n",
       "      <td>0.240340</td>\n",
       "      <td>0.146341</td>\n",
       "      <td>1</td>\n",
       "      <td>1</td>\n",
       "      <td>0</td>\n",
       "    </tr>\n",
       "    <tr>\n",
       "      <th>10</th>\n",
       "      <td>0</td>\n",
       "      <td>0</td>\n",
       "      <td>1</td>\n",
       "      <td>0.188656</td>\n",
       "      <td>0.196433</td>\n",
       "      <td>0.198048</td>\n",
       "      <td>0.158584</td>\n",
       "      <td>0.168329</td>\n",
       "      <td>0.180852</td>\n",
       "      <td>0.208428</td>\n",
       "      <td>...</td>\n",
       "      <td>0.150235</td>\n",
       "      <td>1</td>\n",
       "      <td>0.156047</td>\n",
       "      <td>0.205994</td>\n",
       "      <td>0.105846</td>\n",
       "      <td>0.194544</td>\n",
       "      <td>0.195021</td>\n",
       "      <td>7</td>\n",
       "      <td>5</td>\n",
       "      <td>1</td>\n",
       "    </tr>\n",
       "    <tr>\n",
       "      <th>11</th>\n",
       "      <td>0</td>\n",
       "      <td>0</td>\n",
       "      <td>1</td>\n",
       "      <td>0.187530</td>\n",
       "      <td>0.196433</td>\n",
       "      <td>0.182689</td>\n",
       "      <td>0.159744</td>\n",
       "      <td>0.168329</td>\n",
       "      <td>0.202258</td>\n",
       "      <td>0.182923</td>\n",
       "      <td>...</td>\n",
       "      <td>0.125000</td>\n",
       "      <td>1</td>\n",
       "      <td>0.173659</td>\n",
       "      <td>0.205994</td>\n",
       "      <td>0.105846</td>\n",
       "      <td>0.183441</td>\n",
       "      <td>0.281621</td>\n",
       "      <td>2</td>\n",
       "      <td>8</td>\n",
       "      <td>0</td>\n",
       "    </tr>\n",
       "  </tbody>\n",
       "</table>\n",
       "<p>5 rows × 24 columns</p>\n",
       "</div>"
      ],
      "text/plain": [
       "    bin_0  bin_1  bin_2     bin_3     bin_4     nom_0     nom_1     nom_2  \\\n",
       "id                                                                          \n",
       "0       0      0      0  0.187530  0.180621  0.182689  0.223915  0.168329   \n",
       "6       0      0      0  0.187530  0.180621  0.182689  0.158584  0.168329   \n",
       "7       0      0      1  0.188656  0.180621  0.182689  0.158584  0.201250   \n",
       "10      0      0      1  0.188656  0.196433  0.198048  0.158584  0.168329   \n",
       "11      0      0      1  0.187530  0.196433  0.182689  0.159744  0.168329   \n",
       "\n",
       "       nom_3     nom_4  ...     nom_9  ord_0     ord_1     ord_2     ord_3  \\\n",
       "id                      ...                                                  \n",
       "0   0.219342  0.208428  ...  0.219048      3  0.173659  0.205994  0.110363   \n",
       "6   0.202258  0.208428  ...  0.208000      1  0.233281  0.152980  0.110363   \n",
       "7   0.180852  0.208428  ...  0.211111      3  0.190944  0.152980  0.105846   \n",
       "10  0.180852  0.208428  ...  0.150235      1  0.156047  0.205994  0.105846   \n",
       "11  0.202258  0.182923  ...  0.125000      1  0.173659  0.205994  0.105846   \n",
       "\n",
       "       ord_4     ord_5  day  month  target  \n",
       "id                                          \n",
       "0   0.222031  0.146994    6      3       0  \n",
       "6   0.205705  0.241023    5      6       0  \n",
       "7   0.240340  0.146341    1      1       0  \n",
       "10  0.194544  0.195021    7      5       1  \n",
       "11  0.183441  0.281621    2      8       0  \n",
       "\n",
       "[5 rows x 24 columns]"
      ]
     },
     "execution_count": 41,
     "metadata": {},
     "output_type": "execute_result"
    }
   ],
   "source": [
    "df_train.head()"
   ]
  },
  {
   "cell_type": "code",
   "execution_count": 42,
   "metadata": {},
   "outputs": [],
   "source": [
    "X_train, X_test, y_train, y_test = train_test_split(df_train.drop(\"target\",axis=1),df_train.target, random_state=0)"
   ]
  },
  {
   "cell_type": "code",
   "execution_count": 43,
   "metadata": {},
   "outputs": [
    {
     "name": "stdout",
     "output_type": "stream",
     "text": [
      "CPU times: user 9min 31s, sys: 346 ms, total: 9min 31s\n",
      "Wall time: 1min 20s\n"
     ]
    }
   ],
   "source": [
    "%%time\n",
    "rf = RandomForestClassifier(n_estimators=500,max_features=0.5,n_jobs=-1,min_samples_leaf=25)\n",
    "rf.fit(X_train,y_train)"
   ]
  },
  {
   "cell_type": "code",
   "execution_count": 44,
   "metadata": {},
   "outputs": [
    {
     "name": "stdout",
     "output_type": "stream",
     "text": [
      "0.7855718486110482\n"
     ]
    }
   ],
   "source": [
    "from sklearn.metrics import roc_auc_score\n",
    "preds = rf.predict_proba(X_test)\n",
    "print(roc_auc_score(y_test,preds[:,1]))"
   ]
  },
  {
   "cell_type": "code",
   "execution_count": 45,
   "metadata": {},
   "outputs": [
    {
     "data": {
      "text/html": [
       "<div>\n",
       "<style scoped>\n",
       "    .dataframe tbody tr th:only-of-type {\n",
       "        vertical-align: middle;\n",
       "    }\n",
       "\n",
       "    .dataframe tbody tr th {\n",
       "        vertical-align: top;\n",
       "    }\n",
       "\n",
       "    .dataframe thead th {\n",
       "        text-align: right;\n",
       "    }\n",
       "</style>\n",
       "<table border=\"1\" class=\"dataframe\">\n",
       "  <thead>\n",
       "    <tr style=\"text-align: right;\">\n",
       "      <th></th>\n",
       "      <th>id</th>\n",
       "      <th>target</th>\n",
       "    </tr>\n",
       "  </thead>\n",
       "  <tbody>\n",
       "    <tr>\n",
       "      <th>0</th>\n",
       "      <td>600000</td>\n",
       "      <td>0.181856</td>\n",
       "    </tr>\n",
       "    <tr>\n",
       "      <th>1</th>\n",
       "      <td>600001</td>\n",
       "      <td>0.198051</td>\n",
       "    </tr>\n",
       "    <tr>\n",
       "      <th>2</th>\n",
       "      <td>600002</td>\n",
       "      <td>0.096411</td>\n",
       "    </tr>\n",
       "    <tr>\n",
       "      <th>3</th>\n",
       "      <td>600003</td>\n",
       "      <td>0.182646</td>\n",
       "    </tr>\n",
       "    <tr>\n",
       "      <th>4</th>\n",
       "      <td>600004</td>\n",
       "      <td>0.086612</td>\n",
       "    </tr>\n",
       "  </tbody>\n",
       "</table>\n",
       "</div>"
      ],
      "text/plain": [
       "       id    target\n",
       "0  600000  0.181856\n",
       "1  600001  0.198051\n",
       "2  600002  0.096411\n",
       "3  600003  0.182646\n",
       "4  600004  0.086612"
      ]
     },
     "execution_count": 45,
     "metadata": {},
     "output_type": "execute_result"
    }
   ],
   "source": [
    "sub = pd.read_csv(\"sample_submission.csv\")\n",
    "preds= rf.predict_proba(df_test)\n",
    "sub[\"target\"] = preds[:, 1]\n",
    "sub.head()"
   ]
  },
  {
   "cell_type": "code",
   "execution_count": 46,
   "metadata": {},
   "outputs": [],
   "source": [
    "sub.to_csv(\"preds/rf.csv\",index=False)"
   ]
  },
  {
   "cell_type": "code",
   "execution_count": null,
   "metadata": {},
   "outputs": [],
   "source": []
  }
 ],
 "metadata": {
  "kernelspec": {
   "display_name": "Python 3",
   "language": "python",
   "name": "python3"
  },
  "language_info": {
   "codemirror_mode": {
    "name": "ipython",
    "version": 3
   },
   "file_extension": ".py",
   "mimetype": "text/x-python",
   "name": "python",
   "nbconvert_exporter": "python",
   "pygments_lexer": "ipython3",
   "version": "3.6.7"
  }
 },
 "nbformat": 4,
 "nbformat_minor": 4
}
