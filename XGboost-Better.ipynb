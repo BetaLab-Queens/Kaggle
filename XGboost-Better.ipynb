{
 "cells": [
  {
   "cell_type": "code",
   "execution_count": 85,
   "metadata": {},
   "outputs": [],
   "source": [
    "import numpy as np \n",
    "import pandas as pd\n",
    "\n",
    "from xgboost import XGBClassifier\n",
    "from sklearn.model_selection import train_test_split\n",
    "from sklearn.metrics import roc_auc_score\n",
    "from category_encoders import TargetEncoder\n",
    "from sklearn.model_selection import KFold\n",
    "import string"
   ]
  },
  {
   "cell_type": "code",
   "execution_count": 86,
   "metadata": {},
   "outputs": [],
   "source": [
    "df = pd.read_csv(\"train.csv\",index_col=0)\n",
    "df_t = pd.read_csv(\"test.csv\",index_col=0)"
   ]
  },
  {
   "cell_type": "code",
   "execution_count": 87,
   "metadata": {},
   "outputs": [],
   "source": [
    "ord_1_map  = dict(Novice=0,Contributor=1,Expert=2,Master=3,Grandmaster=4)\n",
    "ord_2_map = dict(Freezing=0,Cold=1,Warm=2,Hot=3)\n",
    "ord_2_map.update({'Boiling Hot':4,'Lava Hot':5})\n",
    "ord_3_lookup = {j:i for (i,j) in zip(range(len(string.ascii_lowercase)),string.ascii_lowercase)}\n",
    "ord_4_lookup = {j:i for (i,j) in zip(range(len(string.ascii_lowercase)),string.ascii_uppercase)}\n",
    "\n",
    "df.ord_1 = df.ord_1.map(ord_1_map)\n",
    "df.ord_2 = df.ord_2.map(ord_2_map)\n",
    "df.ord_3 = df.ord_3.map(ord_3_lookup)\n",
    "df.ord_4 = df.ord_4.map(ord_4_lookup)\n",
    "\n",
    "df_t.ord_1 = df_t.ord_1.map(ord_1_map)\n",
    "df_t.ord_2 = df_t.ord_2.map(ord_2_map)\n",
    "df_t.ord_3 = df_t.ord_3.map(ord_3_lookup)\n",
    "df_t.ord_4 = df_t.ord_4.map(ord_4_lookup)\n",
    "ords = ['ord_1','ord_2','ord_3','ord_4']"
   ]
  },
  {
   "cell_type": "code",
   "execution_count": 88,
   "metadata": {},
   "outputs": [],
   "source": [
    "df[ords] = df[ords].apply(pd.to_numeric, errors='coerce')\n",
    "df[ords] = df[ords].fillna(df[ords].median())\n",
    "df[ords] = df[ords].astype(\"int\")"
   ]
  },
  {
   "cell_type": "code",
   "execution_count": 89,
   "metadata": {},
   "outputs": [],
   "source": [
    "cat_cols = df.select_dtypes(['O']).columns.tolist()"
   ]
  },
  {
   "cell_type": "code",
   "execution_count": 90,
   "metadata": {},
   "outputs": [],
   "source": [
    "enc = TargetEncoder(cols=cat_cols).fit(df.select_dtypes('O'), df.target)"
   ]
  },
  {
   "cell_type": "code",
   "execution_count": 91,
   "metadata": {},
   "outputs": [],
   "source": [
    "transformed = enc.transform(df.select_dtypes('O'))\n",
    "df[cat_cols] = transformed\n",
    "transformed = enc.transform(df_t.select_dtypes('O'))\n",
    "df_t[cat_cols] = transformed"
   ]
  },
  {
   "cell_type": "code",
   "execution_count": 92,
   "metadata": {},
   "outputs": [],
   "source": [
    "X_train, X_test, y_train, y_test = train_test_split(df.drop('target',axis=1),df.target,random_state=0)"
   ]
  },
  {
   "cell_type": "code",
   "execution_count": 103,
   "metadata": {},
   "outputs": [
    {
     "name": "stdout",
     "output_type": "stream",
     "text": [
      "CPU times: user 962 ms, sys: 516 ms, total: 1.48 s\n",
      "Wall time: 1.48 s\n"
     ]
    }
   ],
   "source": [
    "%%time\n",
    "estimated_params = {'subsample': 0.8, 'min_child_weight': 5, 'max_depth': 5, 'gamma': 2, 'colsample_bytree': 0.8}\n",
    "xgb = XGBClassifier(tree_method='gpu_hist',n_jobs=-1,random_state=0, **estimated_params)\n",
    "xgb.fit(X_train,y_train)"
   ]
  },
  {
   "cell_type": "code",
   "execution_count": 104,
   "metadata": {},
   "outputs": [
    {
     "name": "stdout",
     "output_type": "stream",
     "text": [
      "0.7923426210112559\n"
     ]
    }
   ],
   "source": [
    "preds = xgb.predict_proba(X_test)\n",
    "print(roc_auc_score(y_test,preds[:,1]))"
   ]
  },
  {
   "cell_type": "code",
   "execution_count": 95,
   "metadata": {},
   "outputs": [],
   "source": [
    "params = {\n",
    "        'min_child_weight': [1, 5, 10],\n",
    "        'gamma': [0.5, 1, 1.5, 2, 5],\n",
    "        'subsample': [0.6, 0.8, 1.0],\n",
    "        'colsample_bytree': [0.6, 0.8, 1.0],\n",
    "        'max_depth': [3, 4, 5]\n",
    "        }"
   ]
  },
  {
   "cell_type": "code",
   "execution_count": 96,
   "metadata": {},
   "outputs": [],
   "source": [
    "from sklearn.model_selection import RandomizedSearchCV, GridSearchCV"
   ]
  },
  {
   "cell_type": "code",
   "execution_count": 100,
   "metadata": {},
   "outputs": [],
   "source": [
    "# %%time\n",
    "# clf = XGBClassifier(learning_rate=0.02, n_estimators=600, objective='binary:logistic',\n",
    "#                     silent=True, nthread=1,tree_method='gpu_hist')\n",
    "\n",
    "# random_search = RandomizedSearchCV(clf, \n",
    "#                                    param_distributions=params, \n",
    "#                                    n_iter=5, \n",
    "#                                    scoring='roc_auc', \n",
    "#                                    n_jobs=1, cv=3, verbose=3, random_state=0 )\n",
    "# random_search.fit(X_train, y_train)"
   ]
  },
  {
   "cell_type": "code",
   "execution_count": 102,
   "metadata": {},
   "outputs": [
    {
     "name": "stdout",
     "output_type": "stream",
     "text": [
      "Best score reached: 0.7940464866063234 with params: {'subsample': 0.8, 'min_child_weight': 5, 'max_depth': 5, 'gamma': 2, 'colsample_bytree': 0.8} \n"
     ]
    }
   ],
   "source": [
    "print('Best score reached: {} with params: {} '.format(random_search.best_score_, random_search.best_params_))\n",
    "with open(\"xgb_target.txt\",\"w\") as f:\n",
    "    f.write(f\"{random_search.best_params_}\")"
   ]
  },
  {
   "cell_type": "code",
   "execution_count": null,
   "metadata": {},
   "outputs": [],
   "source": [
    "{'subsample': 0.8, 'min_child_weight': 5, 'max_depth': 5, 'gamma': 2, 'colsample_bytree': 0.8}"
   ]
  },
  {
   "cell_type": "code",
   "execution_count": 105,
   "metadata": {},
   "outputs": [
    {
     "data": {
      "text/html": [
       "<div>\n",
       "<style scoped>\n",
       "    .dataframe tbody tr th:only-of-type {\n",
       "        vertical-align: middle;\n",
       "    }\n",
       "\n",
       "    .dataframe tbody tr th {\n",
       "        vertical-align: top;\n",
       "    }\n",
       "\n",
       "    .dataframe thead th {\n",
       "        text-align: right;\n",
       "    }\n",
       "</style>\n",
       "<table border=\"1\" class=\"dataframe\">\n",
       "  <thead>\n",
       "    <tr style=\"text-align: right;\">\n",
       "      <th></th>\n",
       "      <th>id</th>\n",
       "      <th>target</th>\n",
       "    </tr>\n",
       "  </thead>\n",
       "  <tbody>\n",
       "    <tr>\n",
       "      <th>0</th>\n",
       "      <td>600000</td>\n",
       "      <td>0.075984</td>\n",
       "    </tr>\n",
       "    <tr>\n",
       "      <th>1</th>\n",
       "      <td>600001</td>\n",
       "      <td>0.264474</td>\n",
       "    </tr>\n",
       "    <tr>\n",
       "      <th>2</th>\n",
       "      <td>600002</td>\n",
       "      <td>0.204797</td>\n",
       "    </tr>\n",
       "    <tr>\n",
       "      <th>3</th>\n",
       "      <td>600003</td>\n",
       "      <td>0.127666</td>\n",
       "    </tr>\n",
       "    <tr>\n",
       "      <th>4</th>\n",
       "      <td>600004</td>\n",
       "      <td>0.081376</td>\n",
       "    </tr>\n",
       "  </tbody>\n",
       "</table>\n",
       "</div>"
      ],
      "text/plain": [
       "       id    target\n",
       "0  600000  0.075984\n",
       "1  600001  0.264474\n",
       "2  600002  0.204797\n",
       "3  600003  0.127666\n",
       "4  600004  0.081376"
      ]
     },
     "execution_count": 105,
     "metadata": {},
     "output_type": "execute_result"
    }
   ],
   "source": [
    "sub = pd.read_csv(\"sample_submission.csv\")\n",
    "preds= xgb.predict_proba(df_t)\n",
    "sub[\"target\"] = preds[:, 1]\n",
    "sub.head()"
   ]
  },
  {
   "cell_type": "code",
   "execution_count": 106,
   "metadata": {},
   "outputs": [],
   "source": [
    "sub.to_csv(\"preds/xgb.csv\",index=False)"
   ]
  },
  {
   "cell_type": "code",
   "execution_count": 11,
   "metadata": {},
   "outputs": [],
   "source": [
    "df = pd.read_csv(\"train.csv\",index_col=0)\n"
   ]
  },
  {
   "cell_type": "code",
   "execution_count": null,
   "metadata": {},
   "outputs": [],
   "source": []
  }
 ],
 "metadata": {
  "kernelspec": {
   "display_name": "Python 3",
   "language": "python",
   "name": "python3"
  },
  "language_info": {
   "codemirror_mode": {
    "name": "ipython",
    "version": 3
   },
   "file_extension": ".py",
   "mimetype": "text/x-python",
   "name": "python",
   "nbconvert_exporter": "python",
   "pygments_lexer": "ipython3",
   "version": "3.6.7"
  }
 },
 "nbformat": 4,
 "nbformat_minor": 4
}
